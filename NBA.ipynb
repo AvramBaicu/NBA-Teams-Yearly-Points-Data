{
 "cells": [
  {
   "cell_type": "code",
   "execution_count": 2,
   "id": "85784085",
   "metadata": {},
   "outputs": [],
   "source": [
    "#I will be looking at four teams starting from 2007 and going up to 2022. This will be a dictionary of a certain team \n",
    "#and the points from the years 2007\n"
   ]
  },
  {
   "cell_type": "code",
   "execution_count": 205,
   "id": "b0806add",
   "metadata": {},
   "outputs": [
    {
     "data": {
      "text/plain": [
       "['Cavaliers- 7934 7903 8223 8373 7827 6140 7913 8054 8457 8555 9048 9091 8567 6948 7476 8839',\n",
       " 'Heat- 7759 7491 8061 7914 8369 6500 8436 8380 7764 8204 8460 8480 8668 8179 7781 9022',\n",
       " 'Warriors- 8737 9105 8905 8922 8477 6453 8296 8549 9016 9421 9503 9304 9650 6912 8187 9102',\n",
       " 'Lakers- 8474 8904 8768 8339 8321 6422 8381 8442 8073 7982 8575 8862 9165 8054 7887 9192']"
      ]
     },
     "execution_count": 205,
     "metadata": {},
     "output_type": "execute_result"
    }
   ],
   "source": [
    "directions = \"../Untitled Folder\"#folder location\n",
    "filename = \"yearly_points_nba.txt\"#file\n",
    "fpath = f'{directions}/{filename}'#file in location\n",
    "f = open(fpath,'r')# file opening and being read\n",
    "file = f.read().splitlines()# reading and spliting the file by each new line\n",
    "file# calling file to double check\n"
   ]
  },
  {
   "cell_type": "code",
   "execution_count": 206,
   "id": "9ee53cac",
   "metadata": {
    "scrolled": true
   },
   "outputs": [],
   "source": [
    "\n",
    "def make_a_dictionary(file):# function to make a dictionary from a given file\n",
    "    formatted = []# list to store formatted form of file\n",
    "    teams = []# key\n",
    "    amount = []# value\n",
    "    dictionary={}# the dictionary of what the filtered function will return \n",
    "    \n",
    "    for stuff in file:# loops through each object\n",
    "        formatted.append(stuff.split(\" \"))# adds and splits according to a space\n",
    "    \n",
    "    for inside in formatted:# loop through formatted list\n",
    "        teams.append(inside[0])# adds to teams list\n",
    "        del inside[0]# deletes team name from list\n",
    "        amount.append(inside)# adds remaining to amount\n",
    "        \n",
    "    for index in range(len(teams)):#  loops the length of team number of times\n",
    "        dictionary[teams[index][:-1]] = amount[index]# deletes - in teams and adds team to dictionary w value\n",
    "        \n",
    "    return dictionary# returns the new dictionary\n",
    "    "
   ]
  },
  {
   "cell_type": "code",
   "execution_count": 207,
   "id": "a1ce8f12",
   "metadata": {},
   "outputs": [
    {
     "name": "stdout",
     "output_type": "stream",
     "text": [
      "'The team that had the highes points ever(2007-2022) in a season is' Warriors 'with' 9650 'points.'\n"
     ]
    }
   ],
   "source": [
    "totalhighest = 0# starts with lowest number\n",
    "totalhighestteam = \"\"#sets team name\n",
    "dictionary = make_a_dictionary(file)# makes a dictionary based on the function\n",
    "for key, value in dictionary.items():# loops through dictionary\n",
    "    for number in value:# loops through points per year\n",
    "        if int(number)> int(totalhighest):# checks if the number is the highest\n",
    "            totalhighest = number# if highest it sets points\n",
    "            totatlhighestteam = key#if highest it sets team\n",
    "\n",
    "\n",
    "\n",
    "print(f\"'The team that had the highes points ever (2007-2022) in a season is the' {totatlhighestteam} 'with' {totalhighest} 'points.'\")\n",
    "#print statement"
   ]
  },
  {
   "cell_type": "code",
   "execution_count": 209,
   "id": "6ef62ce5",
   "metadata": {},
   "outputs": [
    {
     "name": "stdout",
     "output_type": "stream",
     "text": [
      "'The team that had the lowest points ever(2007-2022)in a season is' Cavaliers 'with' 6140 'points.'\n"
     ]
    }
   ],
   "source": [
    "totallowest = float('inf')# starts with highest number\n",
    "totallowestteam = \"\"#sets team name\n",
    "for key, value in dictionary.items():# loops through dictionary\n",
    "    for number in value:# loops through points per year\n",
    "        if int(number) < int(totallowest):# checks if the number is the lowest\n",
    "            totallowest = number# if lowest it sets points\n",
    "            totatllowestteam = key#if lowest it sets team\n",
    "\n",
    "            \n",
    "print(f\"'The team that had the lowest points ever(2007-2022)in a season is' {totatllowestteam} 'with' {totallowest} 'points.'\")\n",
    "#print statement"
   ]
  },
  {
   "cell_type": "code",
   "execution_count": 7,
   "id": "b6e7266b",
   "metadata": {},
   "outputs": [
    {
     "data": {
      "text/plain": [
       "{'Heat': '8061'}"
      ]
     },
     "execution_count": 7,
     "metadata": {},
     "output_type": "execute_result"
    }
   ],
   "source": [
    "team_name = \"Heat\"#choosing the team\n",
    "year = 2009#choosing the year\n",
    "\n",
    "def make_a_dictionary(team_name, year, dictionary):#function to display team:year from dictionary\n",
    "    newyear = year - 2007# year going through array\n",
    "    return {team_name: dictionary[team_name][newyear]}# returns the dictionary\n",
    "\n",
    "make_a_dictionary(team_name, year, dictionary)# calling the dictionary to see data that I want"
   ]
  },
  {
   "cell_type": "code",
   "execution_count": 8,
   "id": "d4b02035",
   "metadata": {},
   "outputs": [],
   "source": [
    "# The debugging issues I had was putting everything into a nice array format, \n",
    "#and getting the data and putting it into a dictionary. I expected to make an array that counts the first value and then adds\n",
    "#the rest of the numbers into a separate array. Everything was broken. I believe that this is because initially I wrote it so \n",
    "#it doesn't reaize there were multiple values. I had to split the text file into different parts to \n",
    "#space out(evenly) and then I had to put the first object into the array and only that one. the next ones I put into the second\n",
    "#array until there was a new line this happened until the text file was over.\n",
    "\n",
    "#I also struggled with setting dictionary = make_a_dictionary(file). I didn't know how to get the values from a dictionary\n",
    "#making sure I have the correct data was also a headache. I fogot that this was a function instead of a variable which was\n",
    "#confusing. I forgot that I had to call the function. So what I did was created a variable named dictionary that took the \n",
    "#function. The way to reproduce it is by is by not calling the function to make a dictionary.\n"
   ]
  }
 ],
 "metadata": {
  "kernelspec": {
   "display_name": "Python 3 (ipykernel)",
   "language": "python",
   "name": "python3"
  },
  "language_info": {
   "codemirror_mode": {
    "name": "ipython",
    "version": 3
   },
   "file_extension": ".py",
   "mimetype": "text/x-python",
   "name": "python",
   "nbconvert_exporter": "python",
   "pygments_lexer": "ipython3",
   "version": "3.9.7"
  }
 },
 "nbformat": 4,
 "nbformat_minor": 5
}
